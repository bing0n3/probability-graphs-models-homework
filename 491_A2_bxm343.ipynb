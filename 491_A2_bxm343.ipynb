{
 "cells": [
  {
   "cell_type": "markdown",
   "metadata": {},
   "source": [
    "## EECS 491 Assignment 2\n",
    "\n",
    "Due Mon Mar 4 before midnight. 100 points total.\n",
    "\n",
    "### Submitting assignments to Canvas\n",
    "\n",
    "- For jupyter notebooks, submit the .ipynb file and a pdf or html export of the notebook.  Make sure the output represents the latest state of your notebook.  If you use interactive plots, make sure the output for the static file is representative of the points you wish to make.  If your are not using notebooks, writeup your assignment using latex and submit a pdf with your code.  The writeup should include relevant code with description if it can fit on a page.  Do not include binaries or large data files.\n",
    "\n",
    "- Use the following format for filenames:\n",
    "  - `EECS491-A2-yourcaseid.ipynb`\n",
    "  - `EECS491-A2-yourcaseid.pdf`\n",
    "\n",
    "- If you have more than these two files, put all your files in a directory named `EECS491-A2-yourcaseid`. Then zip the directory and submit it with the name `EECS491-A2-yourcaseid.zip`.  Do not use other compression formats."
   ]
  },
  {
   "cell_type": "markdown",
   "metadata": {},
   "source": [
    "### Q1. Conditional Independence (10 pts)\n",
    "\n",
    "Consider the following Bayes net."
   ]
  },
  {
   "cell_type": "markdown",
   "metadata": {},
   "source": [
    "1.1. (5 pts) Show that $a$ is independent of $b$ given no other infomration, i.e.\n",
    "$$\n",
    "a \\perp b\\, |\\, \\varnothing\n",
    "$$\n",
    "\n",
    "$$\n",
    "p(a,b,c) = p(a)p(b)p(c|a,b) \\\\\n",
    "p(a,b) = \\sum_c{p(a)p(b)p(c|a,b)} = p(a)p(b)\\sum_c{p(c|a,b)}g \\Rightarrow a \\perp b\\, |\\, \\varnothing\n",
    "$$\n",
    "\n",
    "\n",
    "1.2. (5 pts) Prove or disprove the following using basic probability (i.e. not using d-separation)\n",
    "$$\n",
    "a \\perp b\\, |\\, e\n",
    "$$\n",
    "\n",
    "$$\n",
    "\\begin{align}\n",
    "p(a,b|e) &= \\frac{p(a,b,e)}{p(e)} \\\\ \n",
    "&= \\sum_c\\frac{p(a,b,c,e)}{p(e)} \\\\\n",
    "&=\\frac{\\sum_c{p(a)p(b)p(c|a,b)p(e|c)}}{p(e)} \\Rightarrow a \\not\\perp b\\, |\\, e\n",
    "\\end{align}\n",
    "$$\n"
   ]
  },
  {
   "cell_type": "markdown",
   "metadata": {},
   "source": [
    "### Q2. Conditional Independence and Causality (5 pts)\n",
    "\n",
    "Consider the following model"
   ]
  },
  {
   "cell_type": "markdown",
   "metadata": {},
   "source": [
    "Show that this causal relationship suggested by the arrows does not necessarily hold, because the identical distribution can be represented by a model defined by different conditional distributions.  What conditional independence assumption does this model make?"
   ]
  },
  {
   "cell_type": "markdown",
   "metadata": {},
   "source": [
    "$$ \n",
    "p(b|a)p(a|b)p(a)\\, =\\, p(b)p(a|b)p(c|a)\\, =\\, p(c)p(a|c)p(b|a)\n",
    "$$\n",
    "\n",
    "The assumption is $b \\perp  c\\, | \\, a$"
   ]
  },
  {
   "cell_type": "markdown",
   "metadata": {},
   "source": [
    "### Q3. Model Complexity, Free Parameters, and Simplifying Assumptions (20 pts)\n",
    "\n",
    "3.1. (5 pts) Consider a general probability distribution with $N$ variables $x_1 \\ldots x_N$ each of which can have $K$ values. What is the expression for the joint distribution in terms of conditional probabilities?\n",
    "\n",
    "$$\n",
    "p(x_1 \\ldots x_N) = \\prod_{i=1}^{N}p(x_i|pa(x_i))\n",
    "$$\n",
    "\n",
    "3.2. (5 pts) What is the total number of free-paramters requried to specify this model?  (Note: the term \"free parameter\" means a parameter that is unconstrained.  For example a Beroulli distribution to describe a coin flip has one free parameter $\\theta$ to describe, say, the probability of heads; the probability of tails must be $1-\\theta$, because the probability is constrained to sum to one.)\n",
    "\n",
    "$$\n",
    "K^N-1\n",
    "$$\n",
    "\n",
    "3.3. (5 pts) Now suppose that the complexity of the model is constrained, so that each variable depends on (at most) $m$ other variables and is conditionally independent of the rest, i.e. each node has $m$ parents and there are $m$ root nodes.  How many parameters are required to define this model?\n",
    "\n",
    "$$\n",
    "K^m - 1\n",
    "$$\n",
    "\n",
    "\n",
    "3.4. (5 pts) Let us make one more simplifying assumption, which is that in addition to depending on only $m$ variables, the conditional probability is described by a noisy-OR function (see Q3).  What is the expression for the number of parameters in this case?\n",
    "\n",
    "$$\n",
    "Nm - 1\n",
    "$$"
   ]
  },
  {
   "cell_type": "markdown",
   "metadata": {},
   "source": [
    "### Q4. Models of Conditional Probability (20 pts)\n",
    "\n",
    "In Bayesian networks (or directed acyclic graphical models), the joint probability distribution is factored into the product of conditional probability distributions\n",
    "\n",
    "$$\n",
    "p(x) = \\prod_{i=1}^N p(x_i|\\textrm{pa}(x_i))\n",
    "$$"
   ]
  },
  {
   "cell_type": "markdown",
   "metadata": {},
   "source": [
    "As we used the previous problem, a simplifying assumption for the conditional probability is noisy-OR model\n",
    "\n",
    "$$\n",
    "p(x_i | \\textrm{pa}({x_i})) = 1 - (1 - \\mu_{i0}) \\prod_{\\normalsize j \\in \\textrm{pa}(x_i)}(1 - \\mu_{ij})^{x_j}\n",
    "$$\n",
    "\n",
    "where $j$ is an index over the parents of $x_i$.  Note that the exponent $x_j$ is either 0 or 1 so the term is either 1 or $1-\\mu_{ij}$ depending on the state of the parent $x_j$."
   ]
  },
  {
   "cell_type": "markdown",
   "metadata": {},
   "source": [
    "4.1 (5 pts) Show that the noisy-OR function can be interpreted as a \"soft\" (i.e. probabilistic) form of the logical OR function, i.e. the function gives $x_i = 1$ whenever at least one of the parents is 1.\n",
    "\n",
    "The value of $x_j$ will influence the result of noisy-OR function. If the all $x_i$ equal to 0, the fianl result will be $\\mu_{i0}$. Otherwise, if any $x_i$ is 1, the result will be close to 1. Thus, noisy-OR function can be interpreted as a \"soft\" of the logical OR function\n",
    "\n",
    "\n",
    "4.2 (5 pts) What is the interpretation of $\\mu_{i0}$? Provide a clear explanation.\n",
    "\n",
    "$\\mu_{i0}$ is Noisy transmitter. It represent the uncertainy of the model and probability of factors, which are not belongs to paretns, activating $x_i$. "
   ]
  },
  {
   "cell_type": "markdown",
   "metadata": {},
   "source": [
    "Another choice for the conditional probability is a sigmoid function\n",
    "\n",
    "$$\n",
    "p(x_i | \\textrm{pa}({x_i})) = \\sigma\n",
    "\\left(\n",
    "w_{i0} + \\sum_{\\normalsize j \\in \\textrm{pa}(x_i)} w_{ij} x_j\n",
    "\\right)\\,, \\quad \\textrm{where} \\;\n",
    "\\sigma(a) = \\frac{1}{1+e^{-a}}\n",
    "$$\n",
    "\n",
    "where $\\sigma (a)$ is the logistic sigmoid function."
   ]
  },
  {
   "cell_type": "markdown",
   "metadata": {},
   "source": [
    "4.3 (5 pts) Contrast the noisy-OR function and the sigmoid mathematically.  Is one more general than the other?  Can each compute unique functions?\n",
    "\n",
    "For a sigmoid function $\\sigma = \\frac{1}{1+e^{-a}}$, $a$ and $\\sigma(a)$ have monotonically increasing relationship. $w_{i0}+\\sum_{j\\in pa(x_i)}w_{ij}x_j$ and parents of $x_i$ become 1 also have montonically increasing relationship, when $w$ are non-negative. When $w$ are non-negative, sigmoid function is the same as the noisy-or function. However, $w$ could be negative. When a certain $w_j$ is negative, it can be interpreted to $\\neg p(x_j)$. When all $w_ij$ are negative, these can be interpreted to $\\neg pa(x_i)$. Therefore, sigmoid functiuon is more general than the noisy-or function. "
   ]
  },
  {
   "cell_type": "markdown",
   "metadata": {},
   "source": [
    "4.4 (5 pts) Think of two examples, one for the noisy-OR and one for the sigmoid, that contrast the way these functions model the conditional dependencies.  Explain how each is appropriately modeled by one function but not the other.\n",
    "\n",
    "\n",
    "Case 1:\n",
    "In a case, the parents of $x_i$ have differnet influence on the final result of $x_i$. In sigmoid function, we can change the weight $w$ to do it. However, in the noisy-or function, we can't handle this situation. \n",
    "\n",
    "\n",
    "Case 2: \n",
    "In this case, we have a varaibel which have a lot of parents and we only know a specific one is 1. In sigmoid function, the result of $w_{i0}+\\sum_{j\\in pa(x_i)}w_{ij}x_j$ will be still a small value and sigmoid function may still get a very small value. However, in noisy-or function, one parent varaible existed are enough to make the probability of $x_i$ be enough large. Thus, noisy-or is better choice.\n"
   ]
  },
  {
   "cell_type": "markdown",
   "metadata": {},
   "source": [
    "### Q5. Car Troubles (Barber Exercise 3.6) (25 pts)\n",
    "\n",
    "5.1 (10 pts) Calculate the $p(f=\\textsf{empty} | s=\\textsf{no})$, the probability of the fuel tank being empty given that the car does not start.  Do this \"by hand\", i.e in manner similar to the **Inference** section in Barber 3.1.1.  Use the probabilities given in the exercise.  Show your work.\n",
    "\n",
    "\\begin{align}\n",
    "p(f=\\textsf{empty} | s=\\textsf{no}) &= \\frac{\\sum_b\\sum_g\\sum_tp(b)p(F)p(S|F,t)p(t|b)p(g|b,F)}{\\sum_b\\sum_f\\sum_tp(f)p(b)p(t|b)p(S|t,f)} = 0.4537\n",
    "\\end{align}\n",
    "\n",
    "\n",
    "5.2 (5 pts) Implement this network using a toolbox for probabilistic models (e.g. `pgmpy` or `BayesNets.jl`). Use this to verify that your derivation and calculations are correct for the previous problem.\n",
    "\n"
   ]
  },
  {
   "cell_type": "code",
   "execution_count": 3,
   "metadata": {},
   "outputs": [
    {
     "data": {
      "text/plain": [
       "True"
      ]
     },
     "execution_count": 3,
     "metadata": {},
     "output_type": "execute_result"
    }
   ],
   "source": [
    "from pgmpy.models import BayesianModel \n",
    "from pgmpy.factors.discrete import TabularCPD\n",
    "\n",
    "model = BayesianModel()\n",
    "model.add_edges_from([('F', 'S'), ('F', 'G'), ('B','G'),('B','T'),('T','S')])\n",
    "\n",
    "# B: bad, good 0 1 \n",
    "priorB = TabularCPD(variable='B', variable_card=2, values=[[0.02, 0.98]])\n",
    "\n",
    "# F: empty, no empty 0 1\n",
    "priorF = TabularCPD(variable='F', variable_card=2, values=[[0.05, 0.95]])\n",
    "\n",
    "# \n",
    "cpdG= TabularCPD(variable='G', variable_card=2, \n",
    "                 evidence=['B', 'F'], evidence_card=[2, 2], \n",
    "                 values=[[0.99, 0.1, 0.97, 0.04], [0.01, 0.9, 0.03, 0.96]])\n",
    "\n",
    "cpdT= TabularCPD(variable='T', variable_card=2, \n",
    "                 evidence=['B'], evidence_card=[2], \n",
    "                 values=[[0.98, 0.03], [0.02, 0.97]])\n",
    "\n",
    "\n",
    "cpdS= TabularCPD(variable='S', variable_card=2, \n",
    "                 evidence=['T', 'F'], evidence_card=[2, 2], \n",
    "                 values=[[0.99, 1, 0.92, 0.01], [0.01, 0, 0.08, 0.99]])\n",
    "\n",
    "model.add_cpds(priorB, priorF, cpdG, cpdT, cpdS)\n",
    "\n",
    "model.check_model()"
   ]
  },
  {
   "cell_type": "code",
   "execution_count": 4,
   "metadata": {},
   "outputs": [
    {
     "name": "stdout",
     "output_type": "stream",
     "text": [
      "+-----+----------+\n",
      "| F   |   phi(F) |\n",
      "+=====+==========+\n",
      "| F_0 |   0.4537 |\n",
      "+-----+----------+\n",
      "| F_1 |   0.5463 |\n",
      "+-----+----------+\n"
     ]
    }
   ],
   "source": [
    "from pgmpy.inference import VariableElimination\n",
    "inference = VariableElimination(model)\n",
    "print(inference.query(['F'], evidence={'S' : 0}) ['F'])"
   ]
  },
  {
   "cell_type": "markdown",
   "metadata": {},
   "source": [
    "5.3 (10 pts) Suppose you have loaned this car to a friend. They call call you and announce, \"the car won't start\".  Illustrate your diagnostic and inference process by using the model to show how your beliefs change as you ask questions.  Your friend can only tell you the states of $t$ and $g$ (and you already know $s$).  Use two different scenarios."
   ]
  },
  {
   "cell_type": "markdown",
   "metadata": {},
   "source": [
    "**Scenario I**\n",
    "\n",
    "\\- \"What is gauge show?\"\n",
    "\\- \"Empty\"\n",
    "\\- \"Are you turning over?\"\n",
    "\\- \"Yes\"\n",
    "\n",
    "\n",
    "Before ask the question, we are more believe that the car can start. When I asked the first question, I belive the car can't start rather than can. The second question, weak my belief. "
   ]
  },
  {
   "cell_type": "code",
   "execution_count": 5,
   "metadata": {},
   "outputs": [
    {
     "name": "stdout",
     "output_type": "stream",
     "text": [
      "+-----+----------+\n",
      "| S   |   phi(S) |\n",
      "+=====+==========+\n",
      "| S_0 |   0.1018 |\n",
      "+-----+----------+\n",
      "| S_1 |   0.8982 |\n",
      "+-----+----------+\n",
      "+-----+----------+\n",
      "| S   |   phi(S) |\n",
      "+=====+==========+\n",
      "| S_0 |   0.5492 |\n",
      "+-----+----------+\n",
      "| S_1 |   0.4508 |\n",
      "+-----+----------+\n",
      "+-----+----------+\n",
      "| S   |   phi(S) |\n",
      "+=====+==========+\n",
      "| S_0 |   0.5201 |\n",
      "+-----+----------+\n",
      "| S_1 |   0.4799 |\n",
      "+-----+----------+\n"
     ]
    }
   ],
   "source": [
    "inference = VariableElimination(model)\n",
    "# before ask\n",
    "print(inference.query(['S'])['S'])\n",
    "# first question \n",
    "print(inference.query(['S'], evidence={'G':0}) ['S'])\n",
    "# second question \n",
    "print(inference.query(['S'], evidence={'G':0,'T':1}) ['S'])"
   ]
  },
  {
   "cell_type": "markdown",
   "metadata": {},
   "source": [
    "**Scenario I**\n",
    "\n",
    "\\- \"Are you turning over?\"\n",
    "\\- \"No\"\n",
    "\\- \"What is gauge show?\"\n",
    "\\- \"Full\"\n",
    "\n",
    "\n",
    "When I didn't ask anything, I believe the car can't start. When i asked the first question, I am strongly believe that the car can't start. After I asked the second question, I am pretty sure that the car couldn't start."
   ]
  },
  {
   "cell_type": "code",
   "execution_count": 6,
   "metadata": {},
   "outputs": [
    {
     "name": "stdout",
     "output_type": "stream",
     "text": [
      "+-----+----------+\n",
      "| S   |   phi(S) |\n",
      "+=====+==========+\n",
      "| S_0 |   0.1018 |\n",
      "+-----+----------+\n",
      "| S_1 |   0.8982 |\n",
      "+-----+----------+\n",
      "+-----+----------+\n",
      "| S   |   phi(S) |\n",
      "+=====+==========+\n",
      "| S_0 |   0.9995 |\n",
      "+-----+----------+\n",
      "| S_1 |   0.0005 |\n",
      "+-----+----------+\n",
      "+-----+----------+\n",
      "| S   |   phi(S) |\n",
      "+=====+==========+\n",
      "| S_0 |   1.0000 |\n",
      "+-----+----------+\n",
      "| S_1 |   0.0000 |\n",
      "+-----+----------+\n"
     ]
    }
   ],
   "source": [
    "inference = VariableElimination(model)\n",
    "# before ask\n",
    "print(inference.query(['S'])['S'])\n",
    "# first question \n",
    "print(inference.query(['S'], evidence={'T':0}) ['S'])\n",
    "# second question \n",
    "print(inference.query(['S'], evidence={'G':1,'T':0}) ['S'])"
   ]
  },
  {
   "cell_type": "markdown",
   "metadata": {},
   "source": [
    "### Exploration (20 pts)\n"
   ]
  },
  {
   "cell_type": "markdown",
   "metadata": {},
   "source": [
    "Like in the first assignment, in this problems, you have more lattiude and are meant to do creative exploration.  Like before you don't need to write a book chapter, but the intention is for you to go beyond what's been covered above.\n",
    "\n",
    "Implement a belief network of your own choosing or design.  It should be more complex that the examples above.  It should be discrete (we will cover continous models later). Use the model to illustrate deductive inference problems.\n",
    "\n",
    "The grading is necessarily subjective, but here is a rubric:\n",
    "- Was scenario you are trying to model clearly described? (5 pts)\n",
    "- Were the variables and states well-chosen and clearly explained? (5 pts)\n",
    "- How well did the examples to illustrate the model? (5 pts)\n",
    "- Did the model go beyond or is distinct from what was already convered in the questions above? For example, larger numbers of nodes with more complex interactions or more variable states or using simplifying assumptions for conditional probabilities like noisy-OR, etc. (5 pts)\n"
   ]
  },
  {
   "cell_type": "code",
   "execution_count": 7,
   "metadata": {},
   "outputs": [
    {
     "data": {
      "image/svg+xml": [
       "<?xml version=\"1.0\" encoding=\"UTF-8\" standalone=\"no\"?>\n",
       "<!DOCTYPE svg PUBLIC \"-//W3C//DTD SVG 1.1//EN\"\n",
       " \"http://www.w3.org/Graphics/SVG/1.1/DTD/svg11.dtd\">\n",
       "<!-- Generated by graphviz version 2.40.1 (20161225.0304)\n",
       " -->\n",
       "<!-- Title: %3 Pages: 1 -->\n",
       "<svg width=\"340pt\" height=\"260pt\"\n",
       " viewBox=\"0.00 0.00 339.57 260.00\" xmlns=\"http://www.w3.org/2000/svg\" xmlns:xlink=\"http://www.w3.org/1999/xlink\">\n",
       "<g id=\"graph0\" class=\"graph\" transform=\"scale(1 1) rotate(0) translate(4 256)\">\n",
       "<title>%3</title>\n",
       "<polygon fill=\"#ffffff\" stroke=\"transparent\" points=\"-4,4 -4,-256 335.5727,-256 335.5727,4 -4,4\"/>\n",
       "<!-- D -->\n",
       "<g id=\"node1\" class=\"node\">\n",
       "<title>D</title>\n",
       "<ellipse fill=\"none\" stroke=\"#000000\" cx=\"71.7606\" cy=\"-162\" rx=\"71.5221\" ry=\"18\"/>\n",
       "<text text-anchor=\"middle\" x=\"71.7606\" y=\"-157.8\" font-family=\"Times,serif\" font-size=\"14.00\" fill=\"#000000\">Course Difficulty</text>\n",
       "</g>\n",
       "<!-- G -->\n",
       "<g id=\"node3\" class=\"node\">\n",
       "<title>G</title>\n",
       "<ellipse fill=\"none\" stroke=\"#000000\" cx=\"171.7606\" cy=\"-90\" rx=\"31.9219\" ry=\"18\"/>\n",
       "<text text-anchor=\"middle\" x=\"171.7606\" y=\"-85.8\" font-family=\"Times,serif\" font-size=\"14.00\" fill=\"#000000\">Grade</text>\n",
       "</g>\n",
       "<!-- D&#45;&gt;G -->\n",
       "<g id=\"edge1\" class=\"edge\">\n",
       "<title>D&#45;&gt;G</title>\n",
       "<path fill=\"none\" stroke=\"#000000\" d=\"M95.4592,-144.937C109.8469,-134.5779 128.2965,-121.2942 143.4495,-110.384\"/>\n",
       "<polygon fill=\"#000000\" stroke=\"#000000\" points=\"145.8645,-112.9581 151.9348,-104.2746 141.7743,-107.2773 145.8645,-112.9581\"/>\n",
       "</g>\n",
       "<!-- I -->\n",
       "<g id=\"node2\" class=\"node\">\n",
       "<title>I</title>\n",
       "<ellipse fill=\"none\" stroke=\"#000000\" cx=\"209.7606\" cy=\"-234\" rx=\"50.7483\" ry=\"18\"/>\n",
       "<text text-anchor=\"middle\" x=\"209.7606\" y=\"-229.8\" font-family=\"Times,serif\" font-size=\"14.00\" fill=\"#000000\">Intellighent</text>\n",
       "</g>\n",
       "<!-- I&#45;&gt;G -->\n",
       "<g id=\"edge2\" class=\"edge\">\n",
       "<title>I&#45;&gt;G</title>\n",
       "<path fill=\"none\" stroke=\"#000000\" d=\"M202.6517,-215.6955C198.7947,-205.3278 194.1392,-192.058 190.7606,-180 185.0248,-159.5291 180.1165,-136.0109 176.7261,-118.1505\"/>\n",
       "<polygon fill=\"#000000\" stroke=\"#000000\" points=\"180.1268,-117.2923 174.864,-108.097 173.2438,-118.5672 180.1268,-117.2923\"/>\n",
       "</g>\n",
       "<!-- H -->\n",
       "<g id=\"node6\" class=\"node\">\n",
       "<title>H</title>\n",
       "<ellipse fill=\"none\" stroke=\"#000000\" cx=\"248.7606\" cy=\"-162\" rx=\"49.355\" ry=\"18\"/>\n",
       "<text text-anchor=\"middle\" x=\"248.7606\" y=\"-157.8\" font-family=\"Times,serif\" font-size=\"14.00\" fill=\"#000000\">Work Hard</text>\n",
       "</g>\n",
       "<!-- I&#45;&gt;H -->\n",
       "<g id=\"edge4\" class=\"edge\">\n",
       "<title>I&#45;&gt;H</title>\n",
       "<path fill=\"none\" stroke=\"#000000\" d=\"M219.4011,-216.2022C223.9011,-207.8944 229.3519,-197.8316 234.3292,-188.6427\"/>\n",
       "<polygon fill=\"#000000\" stroke=\"#000000\" points=\"237.4106,-190.3025 239.0959,-179.8425 231.2555,-186.9685 237.4106,-190.3025\"/>\n",
       "</g>\n",
       "<!-- L -->\n",
       "<g id=\"node4\" class=\"node\">\n",
       "<title>L</title>\n",
       "<ellipse fill=\"none\" stroke=\"#000000\" cx=\"223.7606\" cy=\"-18\" rx=\"73.9081\" ry=\"18\"/>\n",
       "<text text-anchor=\"middle\" x=\"223.7606\" y=\"-13.8\" font-family=\"Times,serif\" font-size=\"14.00\" fill=\"#000000\">Recmmend Letter</text>\n",
       "</g>\n",
       "<!-- G&#45;&gt;L -->\n",
       "<g id=\"edge5\" class=\"edge\">\n",
       "<title>G&#45;&gt;L</title>\n",
       "<path fill=\"none\" stroke=\"#000000\" d=\"M183.8212,-73.3008C190.0866,-64.6256 197.8852,-53.8275 204.9241,-44.0813\"/>\n",
       "<polygon fill=\"#000000\" stroke=\"#000000\" points=\"207.839,-46.0232 210.8566,-35.8671 202.1643,-41.9247 207.839,-46.0232\"/>\n",
       "</g>\n",
       "<!-- R -->\n",
       "<g id=\"node5\" class=\"node\">\n",
       "<title>R</title>\n",
       "<ellipse fill=\"none\" stroke=\"#000000\" cx=\"276.7606\" cy=\"-90\" rx=\"54.6248\" ry=\"18\"/>\n",
       "<text text-anchor=\"middle\" x=\"276.7606\" y=\"-85.8\" font-family=\"Times,serif\" font-size=\"14.00\" fill=\"#000000\">Relationship</text>\n",
       "</g>\n",
       "<!-- R&#45;&gt;L -->\n",
       "<g id=\"edge6\" class=\"edge\">\n",
       "<title>R&#45;&gt;L</title>\n",
       "<path fill=\"none\" stroke=\"#000000\" d=\"M263.6595,-72.2022C257.4166,-63.7214 249.8275,-53.4115 242.9507,-44.0696\"/>\n",
       "<polygon fill=\"#000000\" stroke=\"#000000\" points=\"245.6416,-41.8211 236.8947,-35.8425 240.0043,-45.9708 245.6416,-41.8211\"/>\n",
       "</g>\n",
       "<!-- H&#45;&gt;G -->\n",
       "<g id=\"edge3\" class=\"edge\">\n",
       "<title>H&#45;&gt;G</title>\n",
       "<path fill=\"none\" stroke=\"#000000\" d=\"M230.5127,-144.937C220.1061,-135.2062 206.9398,-122.8948 195.7101,-112.3943\"/>\n",
       "<polygon fill=\"#000000\" stroke=\"#000000\" points=\"197.9975,-109.7414 188.3027,-105.4679 193.2165,-114.8544 197.9975,-109.7414\"/>\n",
       "</g>\n",
       "</g>\n",
       "</svg>\n"
      ],
      "text/plain": [
       "<graphviz.dot.Digraph at 0x1224940f0>"
      ]
     },
     "execution_count": 7,
     "metadata": {},
     "output_type": "execute_result"
    }
   ],
   "source": [
    "from graphviz import Digraph\n",
    "dot = Digraph()\n",
    "dot.node('D','Course Difficulty')\n",
    "dot.node('I','Intellighent')\n",
    "dot.node('G', 'Grade')\n",
    "dot.node('L','Recmmend Letter')\n",
    "dot.node('R','Relationship')\n",
    "dot.node('H','Work Hard')\n",
    "         \n",
    "dot.edges(['DG','IG','HG','IH','GL','RL'])\n",
    "\n",
    "dot"
   ]
  },
  {
   "cell_type": "markdown",
   "metadata": {},
   "source": [
    "There is a model about whether studet get recommend letter. Grade have 4 varaibales: A, B, C,D. Intelligent also has 3 level: high, medium, low. Other elements all have 2 varaible. Assume we have prior probability and conditional probability as below. \n",
    "\n",
    "We wanted to know the belief of getting letter of a student have good intelligent, working hard, taking a hard course, having a good realtionship with lectuer and got A in the course."
   ]
  },
  {
   "cell_type": "code",
   "execution_count": 8,
   "metadata": {},
   "outputs": [
    {
     "data": {
      "text/plain": [
       "True"
      ]
     },
     "execution_count": 8,
     "metadata": {},
     "output_type": "execute_result"
    }
   ],
   "source": [
    "model = BayesianModel()\n",
    "model.add_edges_from([('D', 'G'), ('I', 'G'), \n",
    "                      ('H','G'),('I','H'),('G','L'),('R','L')])\n",
    "\n",
    "\n",
    "# Course Difficulity [easy hard]\n",
    "priorD = TabularCPD(variable='D', variable_card=2, values=[[0.5, 0.5]])\n",
    "\n",
    "# Intelligent [low, medium, high]\n",
    "priorI = TabularCPD(variable='I', variable_card=3, values=[[0.2, 0.7, 0.1]])\n",
    "\n",
    "# relation with lectuer \n",
    "priorR = TabularCPD(variable='R', variable_card=2, values=[[0.6,0.4]])\n",
    "\n",
    "# Hard Working \n",
    "cpdH= TabularCPD(variable='H', variable_card=2, \n",
    "                 evidence=['I'], evidence_card=[3], \n",
    "                 values=[[0.8,0.4,0.7], [0.2, 0.6,0.3]])\n",
    "\n",
    "# Geade 000 001 010 011 020 021 100 101 110 111 120 121\n",
    "cpdG= TabularCPD(variable='G', variable_card=4, \n",
    "                 evidence=['D','I','H'], evidence_card=[2, 3, 2], \n",
    "                 values=[[0.8, 0.1, 0.3, 0.05, 0.1, 0.01, 0.99, 0.3, 0.3, 0.15, 0.1, 0.05],\n",
    "                         [0.2, 0.3, 0.45, 0.2, 0.3, 0.09, 0.01, 0.4, 0.4, 0.25, 0.2, 0.1 ],\n",
    "                         [0,   0.5, 0.25, 0.4, 0.5, 0.1,  0,    0.25,0.3, 0.3,  0.3, 0.3],\n",
    "                         [0,   0.1, 0,    0.35,0.1, 0.8,  0,    0.05,   0,0.3,  0.4, 0.55 ]])\n",
    "\n",
    "# realtion 00 01 10 11 20 21 30 31\n",
    "cpdL = TabularCPD(variable='L', variable_card=2, \n",
    "                 evidence=['G','R'], evidence_card=[4,2], \n",
    "                values=[[1, 0.95, 0.8, 0.65, 0.7, 0.2, 0.3, 0.15],\n",
    "                        [0, 0.05, 0.2, 0.35, 0.3, 0.8, 0.7, 0.85]])\n",
    "\n",
    "\n",
    "model.add_cpds(priorD, priorI, priorR, cpdH, cpdG, cpdL)\n",
    "\n",
    "model.check_model()"
   ]
  },
  {
   "cell_type": "code",
   "execution_count": 9,
   "metadata": {},
   "outputs": [
    {
     "name": "stdout",
     "output_type": "stream",
     "text": [
      "+-----+----------+\n",
      "| L   |   phi(L) |\n",
      "+=====+==========+\n",
      "| L_0 |   0.1500 |\n",
      "+-----+----------+\n",
      "| L_1 |   0.8500 |\n",
      "+-----+----------+\n"
     ]
    }
   ],
   "source": [
    "from pgmpy.inference import VariableElimination\n",
    "inference = VariableElimination(model)\n",
    "print(inference.query(['L'], evidence={'I':1,'H':1,'D':1,'R':1,'G':3}) ['L'])"
   ]
  }
 ],
 "metadata": {
  "kernelspec": {
   "display_name": "Python 3",
   "language": "python",
   "name": "python3"
  },
  "language_info": {
   "codemirror_mode": {
    "name": "ipython",
    "version": 3
   },
   "file_extension": ".py",
   "mimetype": "text/x-python",
   "name": "python",
   "nbconvert_exporter": "python",
   "pygments_lexer": "ipython3",
   "version": "3.6.7"
  }
 },
 "nbformat": 4,
 "nbformat_minor": 2
}
